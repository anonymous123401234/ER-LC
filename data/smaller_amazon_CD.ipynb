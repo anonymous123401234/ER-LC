{
 "cells": [
  {
   "cell_type": "markdown",
   "metadata": {},
   "source": [
    "# Load Data"
   ]
  },
  {
   "cell_type": "code",
   "execution_count": 27,
   "metadata": {},
   "outputs": [
    {
     "name": "stdout",
     "output_type": "stream",
     "text": [
      "412325\n",
      "4543369\n"
     ]
    }
   ],
   "source": [
    "import os\n",
    "import pandas as pd\n",
    "raw_file_path = \"recbole/Amazon_CDs_and_Vinyl\"\n",
    "all_items = pd.read_csv(os.path.join(raw_file_path, \"Amazon_CDs_and_Vinyl.item\"), sep=\"\\t\")\n",
    "all_inters = pd.read_csv(os.path.join(raw_file_path, \"Amazon_CDs_and_Vinyl.inter\"), sep=\"\\t\")\n",
    "print(len(all_items))\n",
    "print(len(all_inters))"
   ]
  },
  {
   "cell_type": "code",
   "execution_count": 28,
   "metadata": {},
   "outputs": [
    {
     "name": "stdout",
     "output_type": "stream",
     "text": [
      "1944316\n",
      "434060\n"
     ]
    }
   ],
   "source": [
    "from collections import Counter\n",
    "user_counter = Counter(all_inters[\"user_id:token\"])\n",
    "item_counter = Counter(all_inters[\"item_id:token\"])\n",
    "print(len(user_counter))\n",
    "print(len(item_counter))"
   ]
  },
  {
   "cell_type": "code",
   "execution_count": 29,
   "metadata": {},
   "outputs": [
    {
     "name": "stdout",
     "output_type": "stream",
     "text": [
      "4506\n",
      "15898\n"
     ]
    }
   ],
   "source": [
    "threshold = 50\n",
    "def get_number(dicts):\n",
    "    count = 0\n",
    "    item_set = []\n",
    "    for key, value in dicts.items():\n",
    "        if value >= threshold:\n",
    "            count+=1\n",
    "            item_set.append(key)\n",
    "    return count, item_set\n",
    "user_count, user_list = get_number(user_counter)\n",
    "item_count, item_list = get_number(item_counter)\n",
    "print(user_count)\n",
    "print(item_count)"
   ]
  },
  {
   "cell_type": "code",
   "execution_count": 30,
   "metadata": {},
   "outputs": [
    {
     "name": "stdout",
     "output_type": "stream",
     "text": [
      "48852\n",
      "67672\n"
     ]
    }
   ],
   "source": [
    "import random\n",
    "selected_user = set(random.sample(user_list, 500))\n",
    "item_list = []\n",
    "count_number = 0\n",
    "for i,j in zip(all_inters[\"user_id:token\"], all_inters[\"item_id:token\"]):\n",
    "    if i in selected_user:\n",
    "        count_number += 1\n",
    "        item_list.append(j)\n",
    "item_list = Counter(item_list)\n",
    "print(len(item_list))\n",
    "print(count_number)"
   ]
  },
  {
   "cell_type": "code",
   "execution_count": 44,
   "metadata": {},
   "outputs": [
    {
     "name": "stdout",
     "output_type": "stream",
     "text": [
      "1629\n"
     ]
    }
   ],
   "source": [
    "available_item = set()\n",
    "for key, value in item_list.items():\n",
    "    if value >3:\n",
    "        available_item.add(key)\n",
    "available_item = set(all_items[\"item_id:token\"]) & available_item\n",
    "print(len(available_item))"
   ]
  },
  {
   "cell_type": "code",
   "execution_count": 45,
   "metadata": {},
   "outputs": [
    {
     "name": "stdout",
     "output_type": "stream",
     "text": [
      "9255\n"
     ]
    }
   ],
   "source": [
    "count_number = 0\n",
    "for i,j in zip(all_inters[\"user_id:token\"], all_inters[\"item_id:token\"]):\n",
    "    if i in selected_user and j in available_item:\n",
    "        count_number += 1\n",
    "print(count_number)"
   ]
  },
  {
   "cell_type": "code",
   "execution_count": 46,
   "metadata": {},
   "outputs": [
    {
     "name": "stdout",
     "output_type": "stream",
     "text": [
      "1629\n"
     ]
    }
   ],
   "source": [
    "# fileter with selected user and available item\n",
    "ava_item = all_items[all_items[\"item_id:token\"].isin(available_item)]\n",
    "print(len(ava_item))\n",
    "ava_inter = all_inters[(all_inters[\"user_id:token\"].isin(selected_user)) & (all_inters[\"item_id:token\"].isin(available_item))]\n",
    "output_path = \"recbole/Amazon_CDs_and_Vinyl_small\"\n",
    "ava_item.to_csv(os.path.join(output_path, \"Amazon_CDs_and_Vinyl_small.item\"), sep=\"\\t\", index=False)\n",
    "ava_inter.to_csv(os.path.join(output_path, \"Amazon_CDs_and_Vinyl_small.inter\"), sep=\"\\t\", index=False)"
   ]
  },
  {
   "cell_type": "code",
   "execution_count": 48,
   "metadata": {},
   "outputs": [
    {
     "name": "stdout",
     "output_type": "stream",
     "text": [
      "500\n",
      "1629\n",
      "9255\n"
     ]
    }
   ],
   "source": [
    "all_user = pd.DataFrame({\"user_id:token\":list(selected_user)})\n",
    "all_user.to_csv(os.path.join(output_path, \"Amazon_CDs_and_Vinyl_small.user\"), sep=\"\\t\", index=False)\n",
    "print(len(all_user))\n",
    "print(len(ava_item))\n",
    "print(len(ava_inter))"
   ]
  },
  {
   "cell_type": "code",
   "execution_count": 39,
   "metadata": {},
   "outputs": [
    {
     "data": {
      "text/plain": [
       "False"
      ]
     },
     "execution_count": 39,
     "metadata": {},
     "output_type": "execute_result"
    }
   ],
   "source": []
  },
  {
   "cell_type": "code",
   "execution_count": null,
   "metadata": {},
   "outputs": [],
   "source": []
  }
 ],
 "metadata": {
  "kernelspec": {
   "display_name": "vllm",
   "language": "python",
   "name": "python3"
  },
  "language_info": {
   "codemirror_mode": {
    "name": "ipython",
    "version": 3
   },
   "file_extension": ".py",
   "mimetype": "text/x-python",
   "name": "python",
   "nbconvert_exporter": "python",
   "pygments_lexer": "ipython3",
   "version": "3.10.13"
  }
 },
 "nbformat": 4,
 "nbformat_minor": 2
}
